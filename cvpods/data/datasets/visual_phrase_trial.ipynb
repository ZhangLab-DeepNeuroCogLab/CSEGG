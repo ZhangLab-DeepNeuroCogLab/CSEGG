{
 "cells": [
  {
   "cell_type": "code",
   "execution_count": 11,
   "id": "49ee94d5-c2c2-47c6-92c4-727ce4bfda66",
   "metadata": {},
   "outputs": [],
   "source": [
    "import json\n",
    "import logging\n",
    "import os\n",
    "import os.path as osp\n",
    "import pickle\n",
    "import random\n",
    "from collections import defaultdict, Counter\n",
    "from copy import deepcopy\n",
    "\n",
    "import h5py\n",
    "import numpy as np\n",
    "import torch\n",
    "from matplotlib import pyplot as plt\n",
    "from tqdm import tqdm\n",
    "\n",
    "from cvpods.data import DATASETS\n",
    "from cvpods.data.base_dataset import BaseDataset\n",
    "from cvpods.data.detection_utils import read_image\n",
    "from cvpods.structures import Boxes, BoxMode\n",
    "from cvpods.structures.boxes import matched_boxlist_iou\n",
    "from cvpods.utils.distributed import is_main_process, synchronize, get_rank\n",
    "from cvpods.data.datasets.bi_lvl_rsmp import resampling_dict_generation, apply_resampling, resampling_dict_generation_ent, \\\n",
    "    apply_resampling_ent\n",
    "from cvpods.data.datasets.paths_route import _PREDEFINED_SPLITS_VisualPhrase_SGDET\n",
    "from cvpods.data.datasets.rel_utils import annotations_to_relationship\n",
    "from cvpods.utils.dump.intermediate_dumper import add_dataset_metadata\n",
    "import xmltodict"
   ]
  },
  {
   "cell_type": "code",
   "execution_count": 5,
   "id": "3b81fc13-0c58-4d0a-8108-f75f9931b773",
   "metadata": {},
   "outputs": [
    {
     "data": {
      "text/plain": [
       "'\\nThis file contains functions to parse COCO-format annotations into dicts in \"cvpods format\".\\n'"
      ]
     },
     "execution_count": 5,
     "metadata": {},
     "output_type": "execute_result"
    }
   ],
   "source": [
    "\"\"\"\n",
    "This file contains functions to parse COCO-format annotations into dicts in \"cvpods format\".\n",
    "\"\"\""
   ]
  },
  {
   "cell_type": "code",
   "execution_count": 6,
   "id": "44bf0dcd-6db3-4f68-81e1-01ec289de13f",
   "metadata": {},
   "outputs": [],
   "source": [
    "logger = logging.getLogger(\"cvpods.\" + __name__)"
   ]
  },
  {
   "cell_type": "code",
   "execution_count": 7,
   "id": "ff211ca9-3020-4ff3-821a-fe6a9991b825",
   "metadata": {},
   "outputs": [
    {
     "name": "stdout",
     "output_type": "stream",
     "text": [
      "Collecting pascal-voc-writer\n",
      "  Downloading pascal_voc_writer-0.1.4-py2.py3-none-any.whl (4.0 kB)\n",
      "Requirement already satisfied: jinja2 in /home/naitik/anaconda3/lib/python3.9/site-packages (from pascal-voc-writer) (2.11.3)\n",
      "Requirement already satisfied: MarkupSafe>=0.23 in /home/naitik/anaconda3/lib/python3.9/site-packages (from jinja2->pascal-voc-writer) (2.0.1)\n",
      "Installing collected packages: pascal-voc-writer\n",
      "Successfully installed pascal-voc-writer-0.1.4\n"
     ]
    }
   ],
   "source": [
    "!pip install pascal-voc-writer"
   ]
  },
  {
   "cell_type": "code",
   "execution_count": 8,
   "id": "da3a1f99-a229-468d-8b22-d47d75b0a18a",
   "metadata": {},
   "outputs": [
    {
     "name": "stdout",
     "output_type": "stream",
     "text": [
      "Collecting xmltodict\n",
      "  Using cached xmltodict-0.13.0-py2.py3-none-any.whl (10.0 kB)\n",
      "Installing collected packages: xmltodict\n",
      "Successfully installed xmltodict-0.13.0\n"
     ]
    }
   ],
   "source": [
    "!pip install xmltodict"
   ]
  },
  {
   "cell_type": "code",
   "execution_count": 9,
   "id": "ebe09116-9b1a-4856-a176-10d1f254f848",
   "metadata": {},
   "outputs": [],
   "source": [
    "\n",
    "\n",
    "with open(\"/home/naitik/projects/SGG_Continual/data/visual_phrase/VOC3000/Annotations/3000_000001.xml\") as file:\n",
    "    file_data = file.read() # read file contents\n",
    "    \n",
    "    # parse data using package\n",
    "    dict_data = xmltodict.parse(file_data)"
   ]
  },
  {
   "cell_type": "code",
   "execution_count": 10,
   "id": "07dab615-b927-4e7c-853e-30072a9840d1",
   "metadata": {},
   "outputs": [
    {
     "data": {
      "text/plain": [
       "{'annotation': {'folder': 'VOC3000',\n",
       "  'filename': '3000_000001.jpg',\n",
       "  'source': {'database': 'VOC3000',\n",
       "   'annotation': 'Amin Sadeghi',\n",
       "   'image': 'bing'},\n",
       "  'size': {'width': '800', 'height': '600', 'depth': '3'},\n",
       "  'segmented': '0',\n",
       "  'object': [{'name': 'person_nextto_car',\n",
       "    'pose': 'Unspecified',\n",
       "    'truncated': '1',\n",
       "    'difficult': '0',\n",
       "    'bndbox': {'xmin': '1',\n",
       "     'ymin': '1.060363e+01',\n",
       "     'xmax': '7.556813e+02',\n",
       "     'ymax': '5.903964e+02'}},\n",
       "   {'name': 'person',\n",
       "    'pose': 'Unspecified',\n",
       "    'truncated': '1',\n",
       "    'difficult': '0',\n",
       "    'bndbox': {'xmin': '3.594212e+02',\n",
       "     'ymin': '2.166183e+01',\n",
       "     'xmax': '6.756037e+02',\n",
       "     'ymax': '5.967656e+02'}},\n",
       "   {'name': 'car',\n",
       "    'pose': 'Unspecified',\n",
       "    'truncated': '1',\n",
       "    'difficult': '0',\n",
       "    'bndbox': {'xmin': '6.790672e+00',\n",
       "     'ymin': '1.286443e+01',\n",
       "     'xmax': '6.939924e+02',\n",
       "     'ymax': '5.816280e+02'}}]}}"
      ]
     },
     "execution_count": 10,
     "metadata": {},
     "output_type": "execute_result"
    }
   ],
   "source": [
    "dict_data"
   ]
  },
  {
   "cell_type": "code",
   "execution_count": 17,
   "id": "b0596aff-c3e7-4dd8-ac6e-5f5490560b2a",
   "metadata": {},
   "outputs": [
    {
     "data": {
      "text/plain": [
       "dict_keys(['folder', 'filename', 'source', 'size', 'segmented', 'object'])"
      ]
     },
     "execution_count": 17,
     "metadata": {},
     "output_type": "execute_result"
    }
   ],
   "source": [
    "dict_data['annotation'].keys()"
   ]
  },
  {
   "cell_type": "code",
   "execution_count": 18,
   "id": "5bfb959c-8754-496c-a636-f9ba82b89069",
   "metadata": {},
   "outputs": [
    {
     "data": {
      "text/plain": [
       "'3000_000001.jpg'"
      ]
     },
     "execution_count": 18,
     "metadata": {},
     "output_type": "execute_result"
    }
   ],
   "source": [
    "dict_data['annotation']['filename']"
   ]
  },
  {
   "cell_type": "code",
   "execution_count": null,
   "id": "83e4f301-7989-4dc4-9fea-1a3b91e90145",
   "metadata": {},
   "outputs": [],
   "source": [
    "#@DATASETS.register()\n",
    "\n",
    "                                                                    \n",
    "  "
   ]
  },
  {
   "cell_type": "code",
   "execution_count": null,
   "id": "f41953d8-6415-4689-af78-3b563eeba458",
   "metadata": {},
   "outputs": [],
   "source": [
    "class UIUCVisualPhraseDataset(BaseDataset):\n",
    "    \n",
    "    def __init__(self, cfg, dataset_name, transforms=[], is_train=True):\n",
    "        \n",
    "        super(VGStanfordDataset, self).__init__(cfg, dataset_name, transforms, is_train)\n",
    "        \n",
    "        self.cfg = cfg\n",
    "        \n",
    "        \n",
    "        if 'train' in dataset_name:\n",
    "            self.split = 'train'\n",
    "        elif 'val' in dataset_name:\n",
    "            self.split = 'val'\n",
    "        elif 'test' in dataset_name:\n",
    "            self.split = 'test'\n",
    "        \n",
    "        \n",
    "        self.check_img_file = True \n",
    "        \n",
    "        self.name = dataset_name\n",
    "        \n",
    "        self.filenames, self.annotations_xml = load_image_filenames(self.data_root , self.check_img_file)\n",
    "        \n",
    "    def __len__(self):\n",
    "        \n",
    "        assert(len(self.filenames) == len(self.annotations_xml))\n",
    "        \n",
    "        return len(self.filenames)\n",
    "    \n",
    "    def _load_annotations(self):\n",
    "        \n",
    "        pass\n",
    "    \n",
    "    def _get_metadata(self): \n",
    "        \n",
    "        \n",
    "        \n",
    "    \n",
    "    \n",
    "        \n",
    "                                                                    "
   ]
  },
  {
   "cell_type": "code",
   "execution_count": 16,
   "id": "b225592d-cd50-4a17-acd5-15fdd0a8d0d6",
   "metadata": {},
   "outputs": [],
   "source": [
    "import os "
   ]
  },
  {
   "cell_type": "code",
   "execution_count": null,
   "id": "0097fa48-1feb-4452-a505-c27a263c1013",
   "metadata": {},
   "outputs": [],
   "source": [
    "dir_list = os.listdir(path)"
   ]
  },
  {
   "cell_type": "code",
   "execution_count": 92,
   "id": "efdfc41e-de85-48ea-bd63-6015f3f19dfc",
   "metadata": {},
   "outputs": [],
   "source": [
    "def load_image_filenames(img_dir, check_img_file = True):\n",
    "    \"\"\"\n",
    "    Loads the image filenames of Visual Phrase dataset.\n",
    "    \n",
    "    Parameters:\n",
    "        image_file: JSON file. Elements contain the param \"image_id\".\n",
    "        img_dir: directory where the VisualGenome images are located\n",
    "    Return:\n",
    "        List of filenames corresponding to the good images\n",
    "        \n",
    "    \"\"\"\n",
    "    \n",
    "    file_list_annotations = [img_dir+ \"Annotations/\" + x for x in os.listdir(img_dir+\"Annotations\")]\n",
    "    file_list_images_reorderd = []\n",
    "    file_names_from_images = os.listdir(img_dir+\"JPEGImages\")\n",
    "    \n",
    "    for image_file in file_list_annotations :\n",
    "        \n",
    "        if \".xml\" in image_file :\n",
    "            \n",
    "            with open(image_file) as file:\n",
    "                \n",
    "                file_data = file.read() # read file contents\n",
    "                \n",
    "                \n",
    "                # parse data using package\n",
    "                dict_data = xmltodict.parse(file_data)['annotation']\n",
    "                \n",
    "                if check_img_file : \n",
    "                    if  dict_data['filename'] in file_names_from_images:\n",
    "                        file_list_images_reorderd.append(dict_data['filename'])\n",
    "                        \n",
    "    file_list_images_reorderd = [img_dir+ \"JPEGImages/\" + x for x in file_list_images_reorderd]\n",
    "    \n",
    "    assert(len(file_list_images_reorderd) == len(file_names_from_annotations))\n",
    "    \n",
    "    return file_list_images_reorderd, file_names_from_annotations"
   ]
  },
  {
   "cell_type": "code",
   "execution_count": 19,
   "id": "b89836e4-a3a4-4c47-a743-830cb6cdb855",
   "metadata": {},
   "outputs": [],
   "source": [
    "import os"
   ]
  },
  {
   "cell_type": "code",
   "execution_count": 26,
   "id": "08a39826-0e5b-4dcc-afc0-c683c423cd6b",
   "metadata": {},
   "outputs": [],
   "source": [
    "path = \"/home/naitik/projects/SGG_Continual/data/visual_phrase/VOC3000/JPEGImages\"\n",
    "dir_list = [path + x for x in os.listdir(path)]"
   ]
  },
  {
   "cell_type": "code",
   "execution_count": 88,
   "id": "ed443944-902a-4d50-acea-3f2119e30f3f",
   "metadata": {},
   "outputs": [],
   "source": [
    "img_dir = \"/home/naitik/projects/SGG_Continual/data/visual_phrase/VOC3000/\"\n",
    "check_img_file = True \n",
    "\n",
    "\n"
   ]
  },
  {
   "cell_type": "code",
   "execution_count": 85,
   "id": "84c91145-a5f9-4ed3-a450-158a6541fb4e",
   "metadata": {},
   "outputs": [
    {
     "data": {
      "text/plain": [
       "2978"
      ]
     },
     "execution_count": 85,
     "metadata": {},
     "output_type": "execute_result"
    }
   ],
   "source": [
    "len(file_list_images_reorderd)"
   ]
  },
  {
   "cell_type": "code",
   "execution_count": 81,
   "id": "a38ee388-e86a-4a4f-986e-1e53395c4e61",
   "metadata": {},
   "outputs": [
    {
     "data": {
      "text/plain": [
       "'/home/naitik/projects/SGG_Continual/data/visual_phrase/VOC3000/JPEGImages/3000_002067.jpg'"
      ]
     },
     "execution_count": 81,
     "metadata": {},
     "output_type": "execute_result"
    }
   ],
   "source": [
    "file_list_images_reorderd[540]"
   ]
  },
  {
   "cell_type": "code",
   "execution_count": 82,
   "id": "329aad73-f670-4ed3-81dd-5c45ffc17f41",
   "metadata": {},
   "outputs": [
    {
     "data": {
      "text/plain": [
       "'/home/naitik/projects/SGG_Continual/data/visual_phrase/VOC3000/Annotations/3000_002067.xml'"
      ]
     },
     "execution_count": 82,
     "metadata": {},
     "output_type": "execute_result"
    }
   ],
   "source": [
    "file_names_from_annotations[540]"
   ]
  },
  {
   "cell_type": "code",
   "execution_count": 96,
   "id": "194b9b8c-14e5-4d22-8986-cdb99b81a3f5",
   "metadata": {},
   "outputs": [
    {
     "data": {
      "text/plain": [
       "{'folder': 'VOC3000',\n",
       " 'filename': '3000_002148.jpg',\n",
       " 'source': {'database': 'VOC3000',\n",
       "  'annotation': 'Amin Sadeghi',\n",
       "  'image': 'bing'},\n",
       " 'size': {'width': '600', 'height': '713', 'depth': '3'},\n",
       " 'segmented': '0',\n",
       " 'object': [{'name': 'person_running',\n",
       "   'pose': 'Unspecified',\n",
       "   'truncated': '1',\n",
       "   'difficult': '0',\n",
       "   'bndbox': {'xmin': '1',\n",
       "    'ymin': '1.065933e+01',\n",
       "    'xmax': '1.998303e+02',\n",
       "    'ymax': '5.943588e+02'}},\n",
       "  {'name': 'person_running',\n",
       "   'pose': 'Unspecified',\n",
       "   'truncated': '1',\n",
       "   'difficult': '0',\n",
       "   'bndbox': {'xmin': '1.074728e+02',\n",
       "    'ymin': '1.423575e+00',\n",
       "    'xmax': '3.808510e+02',\n",
       "    'ymax': '6.682448e+02'}},\n",
       "  {'name': 'person_running',\n",
       "   'pose': 'Unspecified',\n",
       "   'truncated': '1',\n",
       "   'difficult': '0',\n",
       "   'bndbox': {'xmin': '3.531438e+02',\n",
       "    'ymin': '1.250648e+01',\n",
       "    'xmax': '5.470946e+02',\n",
       "    'ymax': '6.756334e+02'}},\n",
       "  {'name': 'person_running',\n",
       "   'pose': 'Unspecified',\n",
       "   'truncated': '1',\n",
       "   'difficult': '0',\n",
       "   'bndbox': {'xmin': '4.713614e+02',\n",
       "    'ymin': '1.989508e+01',\n",
       "    'xmax': '5.951205e+02',\n",
       "    'ymax': '6.257604e+02'}},\n",
       "  {'name': 'person',\n",
       "   'pose': 'Unspecified',\n",
       "   'truncated': '1',\n",
       "   'difficult': '0',\n",
       "   'bndbox': {'xmin': '4.032383e+00',\n",
       "    'ymin': '8.812176e+00',\n",
       "    'xmax': '1.721231e+02',\n",
       "    'ymax': '6.331490e+02'}},\n",
       "  {'name': 'person',\n",
       "   'pose': 'Unspecified',\n",
       "   'truncated': '1',\n",
       "   'difficult': '0',\n",
       "   'bndbox': {'xmin': '1.074728e+02',\n",
       "    'ymin': '1',\n",
       "    'xmax': '3.808510e+02',\n",
       "    'ymax': '6.682448e+02'}},\n",
       "  {'name': 'person',\n",
       "   'pose': 'Unspecified',\n",
       "   'truncated': '1',\n",
       "   'difficult': '0',\n",
       "   'bndbox': {'xmin': '3.494495e+02',\n",
       "    'ymin': '1.804793e+01',\n",
       "    'xmax': '5.600246e+02',\n",
       "    'ymax': '7.033407e+02'}},\n",
       "  {'name': 'person',\n",
       "   'pose': 'Unspecified',\n",
       "   'truncated': '1',\n",
       "   'difficult': '0',\n",
       "   'bndbox': {'xmin': '4.695142e+02',\n",
       "    'ymin': '1.804793e+01',\n",
       "    'xmax': '5.988148e+02',\n",
       "    'ymax': '6.830220e+02'}},\n",
       "  {'name': 'person',\n",
       "   'pose': 'Unspecified',\n",
       "   'truncated': '1',\n",
       "   'difficult': '0',\n",
       "   'bndbox': {'xmin': '2.737163e+02',\n",
       "    'ymin': '2.543653e+01',\n",
       "    'xmax': '4.122526e+02',\n",
       "    'ymax': '6.331490e+02'}}]}"
      ]
     },
     "execution_count": 96,
     "metadata": {},
     "output_type": "execute_result"
    }
   ],
   "source": [
    "with open(file_names_from_annotations[1]) as file:\n",
    "    file_data = file.read() # read file contents\n",
    "    \n",
    "    # parse data using package\n",
    "    dict_data = xmltodict.parse(file_data)\n",
    "\n",
    "dict_data['annotation']"
   ]
  },
  {
   "cell_type": "code",
   "execution_count": 42,
   "id": "895e9963-71b6-4674-880c-a6588cce2f21",
   "metadata": {},
   "outputs": [
    {
     "data": {
      "text/plain": [
       "2978"
      ]
     },
     "execution_count": 42,
     "metadata": {},
     "output_type": "execute_result"
    }
   ],
   "source": [
    "len(file_list)"
   ]
  },
  {
   "cell_type": "code",
   "execution_count": 32,
   "id": "a0bc72b8-79a8-4557-996b-7dadb37d5a13",
   "metadata": {},
   "outputs": [],
   "source": [
    "file_list = [img_dir+ \"Annotations/\" + x for x in os.listdir(img_dir+\"Annotations\")]"
   ]
  },
  {
   "cell_type": "code",
   "execution_count": 34,
   "id": "baf5c19a-4f96-41cc-be97-c1f2764adf75",
   "metadata": {},
   "outputs": [
    {
     "data": {
      "text/plain": [
       "2979"
      ]
     },
     "execution_count": 34,
     "metadata": {},
     "output_type": "execute_result"
    }
   ],
   "source": [
    "len(file_list)"
   ]
  },
  {
   "cell_type": "code",
   "execution_count": null,
   "id": "6f30e2b2-2dc2-4247-8025-412241e761a9",
   "metadata": {},
   "outputs": [],
   "source": [
    "self_try = file_names_from_annotations\n",
    "\n",
    "def _get_metadata(self_try):\n",
    "    \n",
    "    obj_to_idx = {'aeroplane' : 0 , 'bicycle' : 1 , 'bird' : 2 ,  'bottle' : 3 ,  'car' : 4 ,  'cat' : 5 ,  'chair' : 6 ,  'dog' : 7,  'horse' : 8,  'person' : 9,  'sofa' : 10}\n",
    "    rel_to_idx = {'flying_in_sky' : 0 , 'parked_at_airport' : 1 , 'nextto' : 2 , 'lying_on' : 3 , 'jumping' : 4 , 'running' : 5 , 'drinking' : 6 , 'jumping_on' : 7 , 'lying_in_beach' : 8 , 'riding' : 9 , 'sitting_on' : 10}\n",
    "    \n",
    "    idx_to_obj = {}\n",
    "    \n",
    "    for key , data in obj_to_idx.items():\n",
    "        idx_to_obj[data] = key\n",
    "    \n",
    "    idx_to_rel = {}\n",
    "    \n",
    "    for key , data in rel_to_idx.items():\n",
    "        idx_to_rel[data] = key\n",
    "    \n",
    "    unique_relation_list = []\n",
    "    unique_attribute_list = []\n",
    "    \n",
    "    \n",
    "    for xml in range(len(self_try)):\n",
    "        \n",
    "        with open(xml) as file:\n",
    "            \n",
    "            file_data = file.read() # read file contents\n",
    "            \n",
    "            # parse data using package\n",
    "            dict_data = xmltodict.parse(file_data)['annotation']    "
   ]
  },
  {
   "cell_type": "code",
   "execution_count": null,
   "id": "c3c6fbea-1aed-4d60-b6f3-8a908b5d6ecd",
   "metadata": {},
   "outputs": [],
   "source": []
  }
 ],
 "metadata": {
  "kernelspec": {
   "display_name": "Sggc_1",
   "language": "python",
   "name": "sggc_1"
  },
  "language_info": {
   "codemirror_mode": {
    "name": "ipython",
    "version": 3
   },
   "file_extension": ".py",
   "mimetype": "text/x-python",
   "name": "python",
   "nbconvert_exporter": "python",
   "pygments_lexer": "ipython3",
   "version": "3.8.13"
  }
 },
 "nbformat": 4,
 "nbformat_minor": 5
}
